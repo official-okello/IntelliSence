{
 "cells": [
  {
   "cell_type": "markdown",
   "id": "d2695458",
   "metadata": {},
   "source": [
    "Import Libraries"
   ]
  },
  {
   "cell_type": "code",
   "execution_count": 1,
   "id": "316d3c2c",
   "metadata": {},
   "outputs": [],
   "source": [
    "import pandas as pd\n",
    "from scipy import stats\n",
    "import numpy as np\n",
    "import matplotlib.pyplot as plt\n",
    "import seaborn as sns\n",
    "import warnings\n",
    "warnings.filterwarnings('ignore')"
   ]
  },
  {
   "cell_type": "markdown",
   "id": "ee0b689a",
   "metadata": {},
   "source": [
    "Load Datasets"
   ]
  },
  {
   "cell_type": "code",
   "execution_count": 2,
   "id": "ac6545eb",
   "metadata": {},
   "outputs": [],
   "source": [
    "customers = pd.read_csv('../data/customers.csv')\n",
    "transactions = pd.read_csv('../data/transactions.csv')"
   ]
  },
  {
   "cell_type": "markdown",
   "id": "fa038e10",
   "metadata": {},
   "source": [
    "View First 5 Customers Records"
   ]
  },
  {
   "cell_type": "code",
   "execution_count": 3,
   "id": "542f2b12",
   "metadata": {},
   "outputs": [
    {
     "data": {
      "application/vnd.microsoft.datawrangler.viewer.v0+json": {
       "columns": [
        {
         "name": "index",
         "rawType": "int64",
         "type": "integer"
        },
        {
         "name": "CustomerID",
         "rawType": "int64",
         "type": "integer"
        },
        {
         "name": "Age",
         "rawType": "int64",
         "type": "integer"
        },
        {
         "name": "Gender",
         "rawType": "object",
         "type": "string"
        },
        {
         "name": "MaritalStatus",
         "rawType": "object",
         "type": "string"
        },
        {
         "name": "Education",
         "rawType": "object",
         "type": "string"
        },
        {
         "name": "EmploymentStatus",
         "rawType": "object",
         "type": "string"
        },
        {
         "name": "Income",
         "rawType": "float64",
         "type": "float"
        },
        {
         "name": "LoanAmount",
         "rawType": "float64",
         "type": "float"
        },
        {
         "name": "NumLoans",
         "rawType": "int64",
         "type": "integer"
        },
        {
         "name": "CreditHistoryLength",
         "rawType": "int64",
         "type": "integer"
        },
        {
         "name": "AvgMonthlyExpenses",
         "rawType": "float64",
         "type": "float"
        },
        {
         "name": "Savings",
         "rawType": "float64",
         "type": "float"
        },
        {
         "name": "CreditCardUsage",
         "rawType": "object",
         "type": "string"
        },
        {
         "name": "MobileMoneyUsage",
         "rawType": "object",
         "type": "string"
        },
        {
         "name": "LatePayments",
         "rawType": "int64",
         "type": "integer"
        },
        {
         "name": "Default",
         "rawType": "int64",
         "type": "integer"
        }
       ],
       "ref": "89c17396-4421-4ff8-84b8-890bb1522905",
       "rows": [
        [
         "0",
         "1",
         "34",
         "Male",
         "Single",
         "Primary",
         "Self-Employed",
         "37144.72",
         "161.06",
         "3",
         "20",
         "20478.75",
         "14707.29",
         "Low",
         "Frequent",
         "0",
         "0"
        ],
        [
         "1",
         "2",
         "39",
         "Female",
         "Single",
         "Diploma",
         "Unemployed",
         "54508.16",
         "21456.76",
         "0",
         "3",
         "43505.46",
         "20073.77",
         "Low",
         "Rare",
         "0",
         "0"
        ],
        [
         "2",
         "3",
         "39",
         "Female",
         "Single",
         "Diploma",
         "Employed",
         "34758.57",
         "5824.01",
         "2",
         "7",
         "21689.46",
         "17201.33",
         "High",
         "Very Frequent",
         "0",
         "0"
        ],
        [
         "3",
         "4",
         "46",
         "Male",
         "Single",
         "Primary",
         "Employed",
         "50751.69",
         "61473.55",
         "3",
         "19",
         "29524.77",
         "23594.02",
         "Low",
         "Very Frequent",
         "4",
         "0"
        ],
        [
         "4",
         "5",
         "30",
         "Male",
         "Married",
         "Primary",
         "Self-Employed",
         "54497.28",
         "52531.7",
         "1",
         "19",
         "16812.8",
         "20820.11",
         "Low",
         "Very Frequent",
         "0",
         "0"
        ]
       ],
       "shape": {
        "columns": 16,
        "rows": 5
       }
      },
      "text/html": [
       "<div>\n",
       "<style scoped>\n",
       "    .dataframe tbody tr th:only-of-type {\n",
       "        vertical-align: middle;\n",
       "    }\n",
       "\n",
       "    .dataframe tbody tr th {\n",
       "        vertical-align: top;\n",
       "    }\n",
       "\n",
       "    .dataframe thead th {\n",
       "        text-align: right;\n",
       "    }\n",
       "</style>\n",
       "<table border=\"1\" class=\"dataframe\">\n",
       "  <thead>\n",
       "    <tr style=\"text-align: right;\">\n",
       "      <th></th>\n",
       "      <th>CustomerID</th>\n",
       "      <th>Age</th>\n",
       "      <th>Gender</th>\n",
       "      <th>MaritalStatus</th>\n",
       "      <th>Education</th>\n",
       "      <th>EmploymentStatus</th>\n",
       "      <th>Income</th>\n",
       "      <th>LoanAmount</th>\n",
       "      <th>NumLoans</th>\n",
       "      <th>CreditHistoryLength</th>\n",
       "      <th>AvgMonthlyExpenses</th>\n",
       "      <th>Savings</th>\n",
       "      <th>CreditCardUsage</th>\n",
       "      <th>MobileMoneyUsage</th>\n",
       "      <th>LatePayments</th>\n",
       "      <th>Default</th>\n",
       "    </tr>\n",
       "  </thead>\n",
       "  <tbody>\n",
       "    <tr>\n",
       "      <th>0</th>\n",
       "      <td>1</td>\n",
       "      <td>34</td>\n",
       "      <td>Male</td>\n",
       "      <td>Single</td>\n",
       "      <td>Primary</td>\n",
       "      <td>Self-Employed</td>\n",
       "      <td>37144.72</td>\n",
       "      <td>161.06</td>\n",
       "      <td>3</td>\n",
       "      <td>20</td>\n",
       "      <td>20478.75</td>\n",
       "      <td>14707.29</td>\n",
       "      <td>Low</td>\n",
       "      <td>Frequent</td>\n",
       "      <td>0</td>\n",
       "      <td>0</td>\n",
       "    </tr>\n",
       "    <tr>\n",
       "      <th>1</th>\n",
       "      <td>2</td>\n",
       "      <td>39</td>\n",
       "      <td>Female</td>\n",
       "      <td>Single</td>\n",
       "      <td>Diploma</td>\n",
       "      <td>Unemployed</td>\n",
       "      <td>54508.16</td>\n",
       "      <td>21456.76</td>\n",
       "      <td>0</td>\n",
       "      <td>3</td>\n",
       "      <td>43505.46</td>\n",
       "      <td>20073.77</td>\n",
       "      <td>Low</td>\n",
       "      <td>Rare</td>\n",
       "      <td>0</td>\n",
       "      <td>0</td>\n",
       "    </tr>\n",
       "    <tr>\n",
       "      <th>2</th>\n",
       "      <td>3</td>\n",
       "      <td>39</td>\n",
       "      <td>Female</td>\n",
       "      <td>Single</td>\n",
       "      <td>Diploma</td>\n",
       "      <td>Employed</td>\n",
       "      <td>34758.57</td>\n",
       "      <td>5824.01</td>\n",
       "      <td>2</td>\n",
       "      <td>7</td>\n",
       "      <td>21689.46</td>\n",
       "      <td>17201.33</td>\n",
       "      <td>High</td>\n",
       "      <td>Very Frequent</td>\n",
       "      <td>0</td>\n",
       "      <td>0</td>\n",
       "    </tr>\n",
       "    <tr>\n",
       "      <th>3</th>\n",
       "      <td>4</td>\n",
       "      <td>46</td>\n",
       "      <td>Male</td>\n",
       "      <td>Single</td>\n",
       "      <td>Primary</td>\n",
       "      <td>Employed</td>\n",
       "      <td>50751.69</td>\n",
       "      <td>61473.55</td>\n",
       "      <td>3</td>\n",
       "      <td>19</td>\n",
       "      <td>29524.77</td>\n",
       "      <td>23594.02</td>\n",
       "      <td>Low</td>\n",
       "      <td>Very Frequent</td>\n",
       "      <td>4</td>\n",
       "      <td>0</td>\n",
       "    </tr>\n",
       "    <tr>\n",
       "      <th>4</th>\n",
       "      <td>5</td>\n",
       "      <td>30</td>\n",
       "      <td>Male</td>\n",
       "      <td>Married</td>\n",
       "      <td>Primary</td>\n",
       "      <td>Self-Employed</td>\n",
       "      <td>54497.28</td>\n",
       "      <td>52531.70</td>\n",
       "      <td>1</td>\n",
       "      <td>19</td>\n",
       "      <td>16812.80</td>\n",
       "      <td>20820.11</td>\n",
       "      <td>Low</td>\n",
       "      <td>Very Frequent</td>\n",
       "      <td>0</td>\n",
       "      <td>0</td>\n",
       "    </tr>\n",
       "  </tbody>\n",
       "</table>\n",
       "</div>"
      ],
      "text/plain": [
       "   CustomerID  Age  Gender MaritalStatus Education EmploymentStatus    Income  \\\n",
       "0           1   34    Male        Single   Primary    Self-Employed  37144.72   \n",
       "1           2   39  Female        Single   Diploma       Unemployed  54508.16   \n",
       "2           3   39  Female        Single   Diploma         Employed  34758.57   \n",
       "3           4   46    Male        Single   Primary         Employed  50751.69   \n",
       "4           5   30    Male       Married   Primary    Self-Employed  54497.28   \n",
       "\n",
       "   LoanAmount  NumLoans  CreditHistoryLength  AvgMonthlyExpenses   Savings  \\\n",
       "0      161.06         3                   20            20478.75  14707.29   \n",
       "1    21456.76         0                    3            43505.46  20073.77   \n",
       "2     5824.01         2                    7            21689.46  17201.33   \n",
       "3    61473.55         3                   19            29524.77  23594.02   \n",
       "4    52531.70         1                   19            16812.80  20820.11   \n",
       "\n",
       "  CreditCardUsage MobileMoneyUsage  LatePayments  Default  \n",
       "0             Low         Frequent             0        0  \n",
       "1             Low             Rare             0        0  \n",
       "2            High    Very Frequent             0        0  \n",
       "3             Low    Very Frequent             4        0  \n",
       "4             Low    Very Frequent             0        0  "
      ]
     },
     "execution_count": 3,
     "metadata": {},
     "output_type": "execute_result"
    }
   ],
   "source": [
    "customers.head()"
   ]
  },
  {
   "cell_type": "markdown",
   "id": "b5441634",
   "metadata": {},
   "source": [
    "View Last 5 Customers Records"
   ]
  },
  {
   "cell_type": "code",
   "execution_count": 4,
   "id": "d78cd00c",
   "metadata": {},
   "outputs": [
    {
     "data": {
      "application/vnd.microsoft.datawrangler.viewer.v0+json": {
       "columns": [
        {
         "name": "index",
         "rawType": "int64",
         "type": "integer"
        },
        {
         "name": "CustomerID",
         "rawType": "int64",
         "type": "integer"
        },
        {
         "name": "Age",
         "rawType": "int64",
         "type": "integer"
        },
        {
         "name": "Gender",
         "rawType": "object",
         "type": "string"
        },
        {
         "name": "MaritalStatus",
         "rawType": "object",
         "type": "string"
        },
        {
         "name": "Education",
         "rawType": "object",
         "type": "string"
        },
        {
         "name": "EmploymentStatus",
         "rawType": "object",
         "type": "string"
        },
        {
         "name": "Income",
         "rawType": "float64",
         "type": "float"
        },
        {
         "name": "LoanAmount",
         "rawType": "float64",
         "type": "float"
        },
        {
         "name": "NumLoans",
         "rawType": "int64",
         "type": "integer"
        },
        {
         "name": "CreditHistoryLength",
         "rawType": "int64",
         "type": "integer"
        },
        {
         "name": "AvgMonthlyExpenses",
         "rawType": "float64",
         "type": "float"
        },
        {
         "name": "Savings",
         "rawType": "float64",
         "type": "float"
        },
        {
         "name": "CreditCardUsage",
         "rawType": "object",
         "type": "string"
        },
        {
         "name": "MobileMoneyUsage",
         "rawType": "object",
         "type": "string"
        },
        {
         "name": "LatePayments",
         "rawType": "int64",
         "type": "integer"
        },
        {
         "name": "Default",
         "rawType": "int64",
         "type": "integer"
        }
       ],
       "ref": "571d17b9-33b8-4a36-8a80-4506baace68e",
       "rows": [
        [
         "999995",
         "999996",
         "62",
         "Female",
         "Single",
         "Bachelor",
         "Employed",
         "64894.3",
         "21455.38",
         "2",
         "19",
         "44654.05",
         "30603.98",
         "Medium",
         "Very Frequent",
         "2",
         "0"
        ],
        [
         "999996",
         "999997",
         "39",
         "Male",
         "Married",
         "Masters",
         "Self-Employed",
         "79814.12",
         "3432.92",
         "2",
         "12",
         "31919.19",
         "9587.11",
         "Low",
         "Rare",
         "2",
         "0"
        ],
        [
         "999997",
         "999998",
         "21",
         "Male",
         "Married",
         "Primary",
         "Employed",
         "39691.91",
         "54384.47",
         "2",
         "11",
         "26563.78",
         "7934.11",
         "Low",
         "Very Frequent",
         "0",
         "0"
        ],
        [
         "999998",
         "999999",
         "44",
         "Female",
         "Married",
         "Secondary",
         "Employed",
         "65972.4",
         "2007.5",
         "3",
         "11",
         "41176.55",
         "21072.67",
         "High",
         "Very Frequent",
         "0",
         "0"
        ],
        [
         "999999",
         "1000000",
         "29",
         "Male",
         "Single",
         "PhD",
         "Self-Employed",
         "78491.17",
         "55614.28",
         "2",
         "24",
         "59422.09",
         "15648.03",
         "Medium",
         "Frequent",
         "1",
         "0"
        ]
       ],
       "shape": {
        "columns": 16,
        "rows": 5
       }
      },
      "text/html": [
       "<div>\n",
       "<style scoped>\n",
       "    .dataframe tbody tr th:only-of-type {\n",
       "        vertical-align: middle;\n",
       "    }\n",
       "\n",
       "    .dataframe tbody tr th {\n",
       "        vertical-align: top;\n",
       "    }\n",
       "\n",
       "    .dataframe thead th {\n",
       "        text-align: right;\n",
       "    }\n",
       "</style>\n",
       "<table border=\"1\" class=\"dataframe\">\n",
       "  <thead>\n",
       "    <tr style=\"text-align: right;\">\n",
       "      <th></th>\n",
       "      <th>CustomerID</th>\n",
       "      <th>Age</th>\n",
       "      <th>Gender</th>\n",
       "      <th>MaritalStatus</th>\n",
       "      <th>Education</th>\n",
       "      <th>EmploymentStatus</th>\n",
       "      <th>Income</th>\n",
       "      <th>LoanAmount</th>\n",
       "      <th>NumLoans</th>\n",
       "      <th>CreditHistoryLength</th>\n",
       "      <th>AvgMonthlyExpenses</th>\n",
       "      <th>Savings</th>\n",
       "      <th>CreditCardUsage</th>\n",
       "      <th>MobileMoneyUsage</th>\n",
       "      <th>LatePayments</th>\n",
       "      <th>Default</th>\n",
       "    </tr>\n",
       "  </thead>\n",
       "  <tbody>\n",
       "    <tr>\n",
       "      <th>999995</th>\n",
       "      <td>999996</td>\n",
       "      <td>62</td>\n",
       "      <td>Female</td>\n",
       "      <td>Single</td>\n",
       "      <td>Bachelor</td>\n",
       "      <td>Employed</td>\n",
       "      <td>64894.30</td>\n",
       "      <td>21455.38</td>\n",
       "      <td>2</td>\n",
       "      <td>19</td>\n",
       "      <td>44654.05</td>\n",
       "      <td>30603.98</td>\n",
       "      <td>Medium</td>\n",
       "      <td>Very Frequent</td>\n",
       "      <td>2</td>\n",
       "      <td>0</td>\n",
       "    </tr>\n",
       "    <tr>\n",
       "      <th>999996</th>\n",
       "      <td>999997</td>\n",
       "      <td>39</td>\n",
       "      <td>Male</td>\n",
       "      <td>Married</td>\n",
       "      <td>Masters</td>\n",
       "      <td>Self-Employed</td>\n",
       "      <td>79814.12</td>\n",
       "      <td>3432.92</td>\n",
       "      <td>2</td>\n",
       "      <td>12</td>\n",
       "      <td>31919.19</td>\n",
       "      <td>9587.11</td>\n",
       "      <td>Low</td>\n",
       "      <td>Rare</td>\n",
       "      <td>2</td>\n",
       "      <td>0</td>\n",
       "    </tr>\n",
       "    <tr>\n",
       "      <th>999997</th>\n",
       "      <td>999998</td>\n",
       "      <td>21</td>\n",
       "      <td>Male</td>\n",
       "      <td>Married</td>\n",
       "      <td>Primary</td>\n",
       "      <td>Employed</td>\n",
       "      <td>39691.91</td>\n",
       "      <td>54384.47</td>\n",
       "      <td>2</td>\n",
       "      <td>11</td>\n",
       "      <td>26563.78</td>\n",
       "      <td>7934.11</td>\n",
       "      <td>Low</td>\n",
       "      <td>Very Frequent</td>\n",
       "      <td>0</td>\n",
       "      <td>0</td>\n",
       "    </tr>\n",
       "    <tr>\n",
       "      <th>999998</th>\n",
       "      <td>999999</td>\n",
       "      <td>44</td>\n",
       "      <td>Female</td>\n",
       "      <td>Married</td>\n",
       "      <td>Secondary</td>\n",
       "      <td>Employed</td>\n",
       "      <td>65972.40</td>\n",
       "      <td>2007.50</td>\n",
       "      <td>3</td>\n",
       "      <td>11</td>\n",
       "      <td>41176.55</td>\n",
       "      <td>21072.67</td>\n",
       "      <td>High</td>\n",
       "      <td>Very Frequent</td>\n",
       "      <td>0</td>\n",
       "      <td>0</td>\n",
       "    </tr>\n",
       "    <tr>\n",
       "      <th>999999</th>\n",
       "      <td>1000000</td>\n",
       "      <td>29</td>\n",
       "      <td>Male</td>\n",
       "      <td>Single</td>\n",
       "      <td>PhD</td>\n",
       "      <td>Self-Employed</td>\n",
       "      <td>78491.17</td>\n",
       "      <td>55614.28</td>\n",
       "      <td>2</td>\n",
       "      <td>24</td>\n",
       "      <td>59422.09</td>\n",
       "      <td>15648.03</td>\n",
       "      <td>Medium</td>\n",
       "      <td>Frequent</td>\n",
       "      <td>1</td>\n",
       "      <td>0</td>\n",
       "    </tr>\n",
       "  </tbody>\n",
       "</table>\n",
       "</div>"
      ],
      "text/plain": [
       "        CustomerID  Age  Gender MaritalStatus  Education EmploymentStatus  \\\n",
       "999995      999996   62  Female        Single   Bachelor         Employed   \n",
       "999996      999997   39    Male       Married    Masters    Self-Employed   \n",
       "999997      999998   21    Male       Married    Primary         Employed   \n",
       "999998      999999   44  Female       Married  Secondary         Employed   \n",
       "999999     1000000   29    Male        Single        PhD    Self-Employed   \n",
       "\n",
       "          Income  LoanAmount  NumLoans  CreditHistoryLength  \\\n",
       "999995  64894.30    21455.38         2                   19   \n",
       "999996  79814.12     3432.92         2                   12   \n",
       "999997  39691.91    54384.47         2                   11   \n",
       "999998  65972.40     2007.50         3                   11   \n",
       "999999  78491.17    55614.28         2                   24   \n",
       "\n",
       "        AvgMonthlyExpenses   Savings CreditCardUsage MobileMoneyUsage  \\\n",
       "999995            44654.05  30603.98          Medium    Very Frequent   \n",
       "999996            31919.19   9587.11             Low             Rare   \n",
       "999997            26563.78   7934.11             Low    Very Frequent   \n",
       "999998            41176.55  21072.67            High    Very Frequent   \n",
       "999999            59422.09  15648.03          Medium         Frequent   \n",
       "\n",
       "        LatePayments  Default  \n",
       "999995             2        0  \n",
       "999996             2        0  \n",
       "999997             0        0  \n",
       "999998             0        0  \n",
       "999999             1        0  "
      ]
     },
     "execution_count": 4,
     "metadata": {},
     "output_type": "execute_result"
    }
   ],
   "source": [
    "customers.tail()"
   ]
  },
  {
   "cell_type": "markdown",
   "id": "fd02bd84",
   "metadata": {},
   "source": [
    "View First 5 Transactions Records"
   ]
  },
  {
   "cell_type": "code",
   "execution_count": 5,
   "id": "836bff3c",
   "metadata": {},
   "outputs": [
    {
     "data": {
      "application/vnd.microsoft.datawrangler.viewer.v0+json": {
       "columns": [
        {
         "name": "index",
         "rawType": "int64",
         "type": "integer"
        },
        {
         "name": "TransactionID",
         "rawType": "int64",
         "type": "integer"
        },
        {
         "name": "CustomerID",
         "rawType": "int64",
         "type": "integer"
        },
        {
         "name": "Amount",
         "rawType": "float64",
         "type": "float"
        },
        {
         "name": "Channel",
         "rawType": "object",
         "type": "string"
        },
        {
         "name": "MerchantType",
         "rawType": "object",
         "type": "string"
        },
        {
         "name": "Region",
         "rawType": "object",
         "type": "string"
        },
        {
         "name": "TimeOfDay",
         "rawType": "object",
         "type": "string"
        },
        {
         "name": "DayOfWeek",
         "rawType": "object",
         "type": "string"
        },
        {
         "name": "Fraud",
         "rawType": "int64",
         "type": "integer"
        }
       ],
       "ref": "2ce98f8d-f781-4743-9981-23f0fe5815ab",
       "rows": [
        [
         "0",
         "1",
         "15796",
         "1765.38",
         "POS",
         "Retail",
         "Nakuru",
         "Evening",
         "Sunday",
         "0"
        ],
        [
         "1",
         "2",
         "861",
         "3280.04",
         "Mobile",
         "Entertainment",
         "Mombasa",
         "Afternoon",
         "Thursday",
         "0"
        ],
        [
         "2",
         "3",
         "76821",
         "1784.33",
         "ATM",
         "Supermarket",
         "Kisumu",
         "Morning",
         "Friday",
         "0"
        ],
        [
         "3",
         "4",
         "54887",
         "21.09",
         "Mobile",
         "Travel",
         "Other",
         "Evening",
         "Saturday",
         "0"
        ],
        [
         "4",
         "5",
         "6266",
         "880.74",
         "Online",
         "Entertainment",
         "Other",
         "Morning",
         "Tuesday",
         "0"
        ]
       ],
       "shape": {
        "columns": 9,
        "rows": 5
       }
      },
      "text/html": [
       "<div>\n",
       "<style scoped>\n",
       "    .dataframe tbody tr th:only-of-type {\n",
       "        vertical-align: middle;\n",
       "    }\n",
       "\n",
       "    .dataframe tbody tr th {\n",
       "        vertical-align: top;\n",
       "    }\n",
       "\n",
       "    .dataframe thead th {\n",
       "        text-align: right;\n",
       "    }\n",
       "</style>\n",
       "<table border=\"1\" class=\"dataframe\">\n",
       "  <thead>\n",
       "    <tr style=\"text-align: right;\">\n",
       "      <th></th>\n",
       "      <th>TransactionID</th>\n",
       "      <th>CustomerID</th>\n",
       "      <th>Amount</th>\n",
       "      <th>Channel</th>\n",
       "      <th>MerchantType</th>\n",
       "      <th>Region</th>\n",
       "      <th>TimeOfDay</th>\n",
       "      <th>DayOfWeek</th>\n",
       "      <th>Fraud</th>\n",
       "    </tr>\n",
       "  </thead>\n",
       "  <tbody>\n",
       "    <tr>\n",
       "      <th>0</th>\n",
       "      <td>1</td>\n",
       "      <td>15796</td>\n",
       "      <td>1765.38</td>\n",
       "      <td>POS</td>\n",
       "      <td>Retail</td>\n",
       "      <td>Nakuru</td>\n",
       "      <td>Evening</td>\n",
       "      <td>Sunday</td>\n",
       "      <td>0</td>\n",
       "    </tr>\n",
       "    <tr>\n",
       "      <th>1</th>\n",
       "      <td>2</td>\n",
       "      <td>861</td>\n",
       "      <td>3280.04</td>\n",
       "      <td>Mobile</td>\n",
       "      <td>Entertainment</td>\n",
       "      <td>Mombasa</td>\n",
       "      <td>Afternoon</td>\n",
       "      <td>Thursday</td>\n",
       "      <td>0</td>\n",
       "    </tr>\n",
       "    <tr>\n",
       "      <th>2</th>\n",
       "      <td>3</td>\n",
       "      <td>76821</td>\n",
       "      <td>1784.33</td>\n",
       "      <td>ATM</td>\n",
       "      <td>Supermarket</td>\n",
       "      <td>Kisumu</td>\n",
       "      <td>Morning</td>\n",
       "      <td>Friday</td>\n",
       "      <td>0</td>\n",
       "    </tr>\n",
       "    <tr>\n",
       "      <th>3</th>\n",
       "      <td>4</td>\n",
       "      <td>54887</td>\n",
       "      <td>21.09</td>\n",
       "      <td>Mobile</td>\n",
       "      <td>Travel</td>\n",
       "      <td>Other</td>\n",
       "      <td>Evening</td>\n",
       "      <td>Saturday</td>\n",
       "      <td>0</td>\n",
       "    </tr>\n",
       "    <tr>\n",
       "      <th>4</th>\n",
       "      <td>5</td>\n",
       "      <td>6266</td>\n",
       "      <td>880.74</td>\n",
       "      <td>Online</td>\n",
       "      <td>Entertainment</td>\n",
       "      <td>Other</td>\n",
       "      <td>Morning</td>\n",
       "      <td>Tuesday</td>\n",
       "      <td>0</td>\n",
       "    </tr>\n",
       "  </tbody>\n",
       "</table>\n",
       "</div>"
      ],
      "text/plain": [
       "   TransactionID  CustomerID   Amount Channel   MerchantType   Region  \\\n",
       "0              1       15796  1765.38     POS         Retail   Nakuru   \n",
       "1              2         861  3280.04  Mobile  Entertainment  Mombasa   \n",
       "2              3       76821  1784.33     ATM    Supermarket   Kisumu   \n",
       "3              4       54887    21.09  Mobile         Travel    Other   \n",
       "4              5        6266   880.74  Online  Entertainment    Other   \n",
       "\n",
       "   TimeOfDay DayOfWeek  Fraud  \n",
       "0    Evening    Sunday      0  \n",
       "1  Afternoon  Thursday      0  \n",
       "2    Morning    Friday      0  \n",
       "3    Evening  Saturday      0  \n",
       "4    Morning   Tuesday      0  "
      ]
     },
     "execution_count": 5,
     "metadata": {},
     "output_type": "execute_result"
    }
   ],
   "source": [
    "transactions.head()"
   ]
  },
  {
   "cell_type": "markdown",
   "id": "66eb7595",
   "metadata": {},
   "source": [
    "View Last 5 Transactions Records"
   ]
  },
  {
   "cell_type": "code",
   "execution_count": 6,
   "id": "5a111cbd",
   "metadata": {},
   "outputs": [
    {
     "data": {
      "application/vnd.microsoft.datawrangler.viewer.v0+json": {
       "columns": [
        {
         "name": "index",
         "rawType": "int64",
         "type": "integer"
        },
        {
         "name": "TransactionID",
         "rawType": "int64",
         "type": "integer"
        },
        {
         "name": "CustomerID",
         "rawType": "int64",
         "type": "integer"
        },
        {
         "name": "Amount",
         "rawType": "float64",
         "type": "float"
        },
        {
         "name": "Channel",
         "rawType": "object",
         "type": "string"
        },
        {
         "name": "MerchantType",
         "rawType": "object",
         "type": "string"
        },
        {
         "name": "Region",
         "rawType": "object",
         "type": "string"
        },
        {
         "name": "TimeOfDay",
         "rawType": "object",
         "type": "string"
        },
        {
         "name": "DayOfWeek",
         "rawType": "object",
         "type": "string"
        },
        {
         "name": "Fraud",
         "rawType": "int64",
         "type": "integer"
        }
       ],
       "ref": "e1ab8cfb-7992-4eb6-b9ea-42677860d3cd",
       "rows": [
        [
         "999995",
         "999996",
         "66770",
         "3832.75",
         "ATM",
         "Supermarket",
         "Nairobi",
         "Evening",
         "Tuesday",
         "0"
        ],
        [
         "999996",
         "999997",
         "53113",
         "638.07",
         "ATM",
         "Food & Beverage",
         "Mombasa",
         "Night",
         "Thursday",
         "0"
        ],
        [
         "999997",
         "999998",
         "54332",
         "509.32",
         "POS",
         "Supermarket",
         "Nairobi",
         "Night",
         "Wednesday",
         "0"
        ],
        [
         "999998",
         "999999",
         "51995",
         "2316.87",
         "ATM",
         "Electronics",
         "Mombasa",
         "Morning",
         "Friday",
         "0"
        ],
        [
         "999999",
         "1000000",
         "23976",
         "245.43",
         "Online",
         "Healthcare",
         "Nairobi",
         "Evening",
         "Thursday",
         "0"
        ]
       ],
       "shape": {
        "columns": 9,
        "rows": 5
       }
      },
      "text/html": [
       "<div>\n",
       "<style scoped>\n",
       "    .dataframe tbody tr th:only-of-type {\n",
       "        vertical-align: middle;\n",
       "    }\n",
       "\n",
       "    .dataframe tbody tr th {\n",
       "        vertical-align: top;\n",
       "    }\n",
       "\n",
       "    .dataframe thead th {\n",
       "        text-align: right;\n",
       "    }\n",
       "</style>\n",
       "<table border=\"1\" class=\"dataframe\">\n",
       "  <thead>\n",
       "    <tr style=\"text-align: right;\">\n",
       "      <th></th>\n",
       "      <th>TransactionID</th>\n",
       "      <th>CustomerID</th>\n",
       "      <th>Amount</th>\n",
       "      <th>Channel</th>\n",
       "      <th>MerchantType</th>\n",
       "      <th>Region</th>\n",
       "      <th>TimeOfDay</th>\n",
       "      <th>DayOfWeek</th>\n",
       "      <th>Fraud</th>\n",
       "    </tr>\n",
       "  </thead>\n",
       "  <tbody>\n",
       "    <tr>\n",
       "      <th>999995</th>\n",
       "      <td>999996</td>\n",
       "      <td>66770</td>\n",
       "      <td>3832.75</td>\n",
       "      <td>ATM</td>\n",
       "      <td>Supermarket</td>\n",
       "      <td>Nairobi</td>\n",
       "      <td>Evening</td>\n",
       "      <td>Tuesday</td>\n",
       "      <td>0</td>\n",
       "    </tr>\n",
       "    <tr>\n",
       "      <th>999996</th>\n",
       "      <td>999997</td>\n",
       "      <td>53113</td>\n",
       "      <td>638.07</td>\n",
       "      <td>ATM</td>\n",
       "      <td>Food &amp; Beverage</td>\n",
       "      <td>Mombasa</td>\n",
       "      <td>Night</td>\n",
       "      <td>Thursday</td>\n",
       "      <td>0</td>\n",
       "    </tr>\n",
       "    <tr>\n",
       "      <th>999997</th>\n",
       "      <td>999998</td>\n",
       "      <td>54332</td>\n",
       "      <td>509.32</td>\n",
       "      <td>POS</td>\n",
       "      <td>Supermarket</td>\n",
       "      <td>Nairobi</td>\n",
       "      <td>Night</td>\n",
       "      <td>Wednesday</td>\n",
       "      <td>0</td>\n",
       "    </tr>\n",
       "    <tr>\n",
       "      <th>999998</th>\n",
       "      <td>999999</td>\n",
       "      <td>51995</td>\n",
       "      <td>2316.87</td>\n",
       "      <td>ATM</td>\n",
       "      <td>Electronics</td>\n",
       "      <td>Mombasa</td>\n",
       "      <td>Morning</td>\n",
       "      <td>Friday</td>\n",
       "      <td>0</td>\n",
       "    </tr>\n",
       "    <tr>\n",
       "      <th>999999</th>\n",
       "      <td>1000000</td>\n",
       "      <td>23976</td>\n",
       "      <td>245.43</td>\n",
       "      <td>Online</td>\n",
       "      <td>Healthcare</td>\n",
       "      <td>Nairobi</td>\n",
       "      <td>Evening</td>\n",
       "      <td>Thursday</td>\n",
       "      <td>0</td>\n",
       "    </tr>\n",
       "  </tbody>\n",
       "</table>\n",
       "</div>"
      ],
      "text/plain": [
       "        TransactionID  CustomerID   Amount Channel     MerchantType   Region  \\\n",
       "999995         999996       66770  3832.75     ATM      Supermarket  Nairobi   \n",
       "999996         999997       53113   638.07     ATM  Food & Beverage  Mombasa   \n",
       "999997         999998       54332   509.32     POS      Supermarket  Nairobi   \n",
       "999998         999999       51995  2316.87     ATM      Electronics  Mombasa   \n",
       "999999        1000000       23976   245.43  Online       Healthcare  Nairobi   \n",
       "\n",
       "       TimeOfDay  DayOfWeek  Fraud  \n",
       "999995   Evening    Tuesday      0  \n",
       "999996     Night   Thursday      0  \n",
       "999997     Night  Wednesday      0  \n",
       "999998   Morning     Friday      0  \n",
       "999999   Evening   Thursday      0  "
      ]
     },
     "execution_count": 6,
     "metadata": {},
     "output_type": "execute_result"
    }
   ],
   "source": [
    "transactions.tail()"
   ]
  },
  {
   "cell_type": "markdown",
   "id": "1457eb40",
   "metadata": {},
   "source": [
    "Customers Dataset Check Info"
   ]
  },
  {
   "cell_type": "code",
   "execution_count": 7,
   "id": "0b176289",
   "metadata": {},
   "outputs": [
    {
     "name": "stdout",
     "output_type": "stream",
     "text": [
      "<class 'pandas.core.frame.DataFrame'>\n",
      "RangeIndex: 1000000 entries, 0 to 999999\n",
      "Data columns (total 16 columns):\n",
      " #   Column               Non-Null Count    Dtype  \n",
      "---  ------               --------------    -----  \n",
      " 0   CustomerID           1000000 non-null  int64  \n",
      " 1   Age                  1000000 non-null  int64  \n",
      " 2   Gender               1000000 non-null  object \n",
      " 3   MaritalStatus        1000000 non-null  object \n",
      " 4   Education            950070 non-null   object \n",
      " 5   EmploymentStatus     1000000 non-null  object \n",
      " 6   Income               1000000 non-null  float64\n",
      " 7   LoanAmount           1000000 non-null  float64\n",
      " 8   NumLoans             1000000 non-null  int64  \n",
      " 9   CreditHistoryLength  1000000 non-null  int64  \n",
      " 10  AvgMonthlyExpenses   1000000 non-null  float64\n",
      " 11  Savings              1000000 non-null  float64\n",
      " 12  CreditCardUsage      1000000 non-null  object \n",
      " 13  MobileMoneyUsage     1000000 non-null  object \n",
      " 14  LatePayments         1000000 non-null  int64  \n",
      " 15  Default              1000000 non-null  int64  \n",
      "dtypes: float64(4), int64(6), object(6)\n",
      "memory usage: 122.1+ MB\n"
     ]
    }
   ],
   "source": [
    "customers.info()"
   ]
  },
  {
   "cell_type": "markdown",
   "id": "6944244e",
   "metadata": {},
   "source": [
    "Transactions Dataset Check Info"
   ]
  },
  {
   "cell_type": "code",
   "execution_count": 8,
   "id": "73e9a3a0",
   "metadata": {},
   "outputs": [
    {
     "name": "stdout",
     "output_type": "stream",
     "text": [
      "<class 'pandas.core.frame.DataFrame'>\n",
      "RangeIndex: 1000000 entries, 0 to 999999\n",
      "Data columns (total 9 columns):\n",
      " #   Column         Non-Null Count    Dtype  \n",
      "---  ------         --------------    -----  \n",
      " 0   TransactionID  1000000 non-null  int64  \n",
      " 1   CustomerID     1000000 non-null  int64  \n",
      " 2   Amount         1000000 non-null  float64\n",
      " 3   Channel        1000000 non-null  object \n",
      " 4   MerchantType   1000000 non-null  object \n",
      " 5   Region         1000000 non-null  object \n",
      " 6   TimeOfDay      1000000 non-null  object \n",
      " 7   DayOfWeek      1000000 non-null  object \n",
      " 8   Fraud          1000000 non-null  int64  \n",
      "dtypes: float64(1), int64(3), object(5)\n",
      "memory usage: 68.7+ MB\n"
     ]
    }
   ],
   "source": [
    "transactions.info()"
   ]
  },
  {
   "cell_type": "markdown",
   "id": "19f8a4b7",
   "metadata": {},
   "source": [
    "Customers Dataset Desriptive Analysis"
   ]
  },
  {
   "cell_type": "code",
   "execution_count": 9,
   "id": "76a45090",
   "metadata": {},
   "outputs": [
    {
     "data": {
      "application/vnd.microsoft.datawrangler.viewer.v0+json": {
       "columns": [
        {
         "name": "index",
         "rawType": "object",
         "type": "string"
        },
        {
         "name": "CustomerID",
         "rawType": "float64",
         "type": "float"
        },
        {
         "name": "Age",
         "rawType": "float64",
         "type": "float"
        },
        {
         "name": "Gender",
         "rawType": "object",
         "type": "unknown"
        },
        {
         "name": "MaritalStatus",
         "rawType": "object",
         "type": "unknown"
        },
        {
         "name": "Education",
         "rawType": "object",
         "type": "unknown"
        },
        {
         "name": "EmploymentStatus",
         "rawType": "object",
         "type": "unknown"
        },
        {
         "name": "Income",
         "rawType": "float64",
         "type": "float"
        },
        {
         "name": "LoanAmount",
         "rawType": "float64",
         "type": "float"
        },
        {
         "name": "NumLoans",
         "rawType": "float64",
         "type": "float"
        },
        {
         "name": "CreditHistoryLength",
         "rawType": "float64",
         "type": "float"
        },
        {
         "name": "AvgMonthlyExpenses",
         "rawType": "float64",
         "type": "float"
        },
        {
         "name": "Savings",
         "rawType": "float64",
         "type": "float"
        },
        {
         "name": "CreditCardUsage",
         "rawType": "object",
         "type": "unknown"
        },
        {
         "name": "MobileMoneyUsage",
         "rawType": "object",
         "type": "unknown"
        },
        {
         "name": "LatePayments",
         "rawType": "float64",
         "type": "float"
        },
        {
         "name": "Default",
         "rawType": "float64",
         "type": "float"
        }
       ],
       "ref": "b4974493-5796-4e04-ab10-8144f1173c84",
       "rows": [
        [
         "count",
         "1000000.0",
         "1000000.0",
         "1000000",
         "1000000",
         "950070",
         "1000000",
         "1000000.0",
         "1000000.0",
         "1000000.0",
         "1000000.0",
         "1000000.0",
         "1000000.0",
         "1000000",
         "1000000",
         "1000000.0",
         "1000000.0"
        ],
        [
         "unique",
         null,
         null,
         "2",
         "4",
         "6",
         "5",
         null,
         null,
         null,
         null,
         null,
         null,
         "3",
         "3",
         null,
         null
        ],
        [
         "top",
         null,
         null,
         "Female",
         "Single",
         "Secondary",
         "Employed",
         null,
         null,
         null,
         null,
         null,
         null,
         "Medium",
         "Frequent",
         null,
         null
        ],
        [
         "freq",
         null,
         null,
         "500284",
         "449876",
         "350005",
         "499943",
         null,
         null,
         null,
         null,
         null,
         null,
         "400404",
         "499892",
         null,
         null
        ],
        [
         "mean",
         "500000.5",
         "43.494123",
         null,
         null,
         null,
         null,
         "50083.136461099995",
         "29947.522763779998",
         "1.999273",
         "12.013856",
         "27545.14665347",
         "15017.036808649998",
         null,
         null,
         "1.001364",
         "0.065961"
        ],
        [
         "std",
         "288675.27893234405",
         "14.99881750090311",
         null,
         null,
         null,
         null,
         "19790.04833560499",
         "29920.874774769833",
         "1.4149376217768306",
         "7.210734359685843",
         "13373.145610800186",
         "8590.920157126604",
         null,
         null,
         "1.0006523576193387",
         "0.24821403684966745"
        ],
        [
         "min",
         "1.0",
         "18.0",
         null,
         null,
         null,
         null,
         "5000.0",
         "0.0",
         "0.0",
         "0.0",
         "1500.61",
         "500.12",
         null,
         null,
         "0.0",
         "0.0"
        ],
        [
         "25%",
         "250000.75",
         "31.0",
         null,
         null,
         null,
         null,
         "36476.8575",
         "8629.885",
         "1.0",
         "6.0",
         "17828.4625",
         "8353.539999999999",
         null,
         null,
         "0.0",
         "0.0"
        ],
        [
         "50%",
         "500000.5",
         "43.0",
         null,
         null,
         null,
         null,
         "49983.985",
         "20769.01",
         "2.0",
         "12.0",
         "25877.235",
         "13534.44",
         null,
         null,
         "1.0",
         "0.0"
        ],
        [
         "75%",
         "750000.25",
         "56.0",
         null,
         null,
         null,
         null,
         "63514.60249999999",
         "41491.93",
         "3.0",
         "18.0",
         "35795.4775",
         "20334.815000000002",
         null,
         null,
         "2.0",
         "0.0"
        ],
        [
         "max",
         "1000000.0",
         "69.0",
         null,
         null,
         null,
         null,
         "150570.93",
         "463688.17",
         "12.0",
         "24.0",
         "108070.88",
         "68920.8",
         null,
         null,
         "9.0",
         "1.0"
        ]
       ],
       "shape": {
        "columns": 16,
        "rows": 11
       }
      },
      "text/html": [
       "<div>\n",
       "<style scoped>\n",
       "    .dataframe tbody tr th:only-of-type {\n",
       "        vertical-align: middle;\n",
       "    }\n",
       "\n",
       "    .dataframe tbody tr th {\n",
       "        vertical-align: top;\n",
       "    }\n",
       "\n",
       "    .dataframe thead th {\n",
       "        text-align: right;\n",
       "    }\n",
       "</style>\n",
       "<table border=\"1\" class=\"dataframe\">\n",
       "  <thead>\n",
       "    <tr style=\"text-align: right;\">\n",
       "      <th></th>\n",
       "      <th>CustomerID</th>\n",
       "      <th>Age</th>\n",
       "      <th>Gender</th>\n",
       "      <th>MaritalStatus</th>\n",
       "      <th>Education</th>\n",
       "      <th>EmploymentStatus</th>\n",
       "      <th>Income</th>\n",
       "      <th>LoanAmount</th>\n",
       "      <th>NumLoans</th>\n",
       "      <th>CreditHistoryLength</th>\n",
       "      <th>AvgMonthlyExpenses</th>\n",
       "      <th>Savings</th>\n",
       "      <th>CreditCardUsage</th>\n",
       "      <th>MobileMoneyUsage</th>\n",
       "      <th>LatePayments</th>\n",
       "      <th>Default</th>\n",
       "    </tr>\n",
       "  </thead>\n",
       "  <tbody>\n",
       "    <tr>\n",
       "      <th>count</th>\n",
       "      <td>1000000.000000</td>\n",
       "      <td>1000000.000000</td>\n",
       "      <td>1000000</td>\n",
       "      <td>1000000</td>\n",
       "      <td>950070</td>\n",
       "      <td>1000000</td>\n",
       "      <td>1000000.000000</td>\n",
       "      <td>1000000.000000</td>\n",
       "      <td>1000000.000000</td>\n",
       "      <td>1000000.000000</td>\n",
       "      <td>1000000.000000</td>\n",
       "      <td>1000000.000000</td>\n",
       "      <td>1000000</td>\n",
       "      <td>1000000</td>\n",
       "      <td>1000000.000000</td>\n",
       "      <td>1000000.000000</td>\n",
       "    </tr>\n",
       "    <tr>\n",
       "      <th>unique</th>\n",
       "      <td>NaN</td>\n",
       "      <td>NaN</td>\n",
       "      <td>2</td>\n",
       "      <td>4</td>\n",
       "      <td>6</td>\n",
       "      <td>5</td>\n",
       "      <td>NaN</td>\n",
       "      <td>NaN</td>\n",
       "      <td>NaN</td>\n",
       "      <td>NaN</td>\n",
       "      <td>NaN</td>\n",
       "      <td>NaN</td>\n",
       "      <td>3</td>\n",
       "      <td>3</td>\n",
       "      <td>NaN</td>\n",
       "      <td>NaN</td>\n",
       "    </tr>\n",
       "    <tr>\n",
       "      <th>top</th>\n",
       "      <td>NaN</td>\n",
       "      <td>NaN</td>\n",
       "      <td>Female</td>\n",
       "      <td>Single</td>\n",
       "      <td>Secondary</td>\n",
       "      <td>Employed</td>\n",
       "      <td>NaN</td>\n",
       "      <td>NaN</td>\n",
       "      <td>NaN</td>\n",
       "      <td>NaN</td>\n",
       "      <td>NaN</td>\n",
       "      <td>NaN</td>\n",
       "      <td>Medium</td>\n",
       "      <td>Frequent</td>\n",
       "      <td>NaN</td>\n",
       "      <td>NaN</td>\n",
       "    </tr>\n",
       "    <tr>\n",
       "      <th>freq</th>\n",
       "      <td>NaN</td>\n",
       "      <td>NaN</td>\n",
       "      <td>500284</td>\n",
       "      <td>449876</td>\n",
       "      <td>350005</td>\n",
       "      <td>499943</td>\n",
       "      <td>NaN</td>\n",
       "      <td>NaN</td>\n",
       "      <td>NaN</td>\n",
       "      <td>NaN</td>\n",
       "      <td>NaN</td>\n",
       "      <td>NaN</td>\n",
       "      <td>400404</td>\n",
       "      <td>499892</td>\n",
       "      <td>NaN</td>\n",
       "      <td>NaN</td>\n",
       "    </tr>\n",
       "    <tr>\n",
       "      <th>mean</th>\n",
       "      <td>500000.500000</td>\n",
       "      <td>43.494123</td>\n",
       "      <td>NaN</td>\n",
       "      <td>NaN</td>\n",
       "      <td>NaN</td>\n",
       "      <td>NaN</td>\n",
       "      <td>50083.136461</td>\n",
       "      <td>29947.522764</td>\n",
       "      <td>1.999273</td>\n",
       "      <td>12.013856</td>\n",
       "      <td>27545.146653</td>\n",
       "      <td>15017.036809</td>\n",
       "      <td>NaN</td>\n",
       "      <td>NaN</td>\n",
       "      <td>1.001364</td>\n",
       "      <td>0.065961</td>\n",
       "    </tr>\n",
       "    <tr>\n",
       "      <th>std</th>\n",
       "      <td>288675.278932</td>\n",
       "      <td>14.998818</td>\n",
       "      <td>NaN</td>\n",
       "      <td>NaN</td>\n",
       "      <td>NaN</td>\n",
       "      <td>NaN</td>\n",
       "      <td>19790.048336</td>\n",
       "      <td>29920.874775</td>\n",
       "      <td>1.414938</td>\n",
       "      <td>7.210734</td>\n",
       "      <td>13373.145611</td>\n",
       "      <td>8590.920157</td>\n",
       "      <td>NaN</td>\n",
       "      <td>NaN</td>\n",
       "      <td>1.000652</td>\n",
       "      <td>0.248214</td>\n",
       "    </tr>\n",
       "    <tr>\n",
       "      <th>min</th>\n",
       "      <td>1.000000</td>\n",
       "      <td>18.000000</td>\n",
       "      <td>NaN</td>\n",
       "      <td>NaN</td>\n",
       "      <td>NaN</td>\n",
       "      <td>NaN</td>\n",
       "      <td>5000.000000</td>\n",
       "      <td>0.000000</td>\n",
       "      <td>0.000000</td>\n",
       "      <td>0.000000</td>\n",
       "      <td>1500.610000</td>\n",
       "      <td>500.120000</td>\n",
       "      <td>NaN</td>\n",
       "      <td>NaN</td>\n",
       "      <td>0.000000</td>\n",
       "      <td>0.000000</td>\n",
       "    </tr>\n",
       "    <tr>\n",
       "      <th>25%</th>\n",
       "      <td>250000.750000</td>\n",
       "      <td>31.000000</td>\n",
       "      <td>NaN</td>\n",
       "      <td>NaN</td>\n",
       "      <td>NaN</td>\n",
       "      <td>NaN</td>\n",
       "      <td>36476.857500</td>\n",
       "      <td>8629.885000</td>\n",
       "      <td>1.000000</td>\n",
       "      <td>6.000000</td>\n",
       "      <td>17828.462500</td>\n",
       "      <td>8353.540000</td>\n",
       "      <td>NaN</td>\n",
       "      <td>NaN</td>\n",
       "      <td>0.000000</td>\n",
       "      <td>0.000000</td>\n",
       "    </tr>\n",
       "    <tr>\n",
       "      <th>50%</th>\n",
       "      <td>500000.500000</td>\n",
       "      <td>43.000000</td>\n",
       "      <td>NaN</td>\n",
       "      <td>NaN</td>\n",
       "      <td>NaN</td>\n",
       "      <td>NaN</td>\n",
       "      <td>49983.985000</td>\n",
       "      <td>20769.010000</td>\n",
       "      <td>2.000000</td>\n",
       "      <td>12.000000</td>\n",
       "      <td>25877.235000</td>\n",
       "      <td>13534.440000</td>\n",
       "      <td>NaN</td>\n",
       "      <td>NaN</td>\n",
       "      <td>1.000000</td>\n",
       "      <td>0.000000</td>\n",
       "    </tr>\n",
       "    <tr>\n",
       "      <th>75%</th>\n",
       "      <td>750000.250000</td>\n",
       "      <td>56.000000</td>\n",
       "      <td>NaN</td>\n",
       "      <td>NaN</td>\n",
       "      <td>NaN</td>\n",
       "      <td>NaN</td>\n",
       "      <td>63514.602500</td>\n",
       "      <td>41491.930000</td>\n",
       "      <td>3.000000</td>\n",
       "      <td>18.000000</td>\n",
       "      <td>35795.477500</td>\n",
       "      <td>20334.815000</td>\n",
       "      <td>NaN</td>\n",
       "      <td>NaN</td>\n",
       "      <td>2.000000</td>\n",
       "      <td>0.000000</td>\n",
       "    </tr>\n",
       "    <tr>\n",
       "      <th>max</th>\n",
       "      <td>1000000.000000</td>\n",
       "      <td>69.000000</td>\n",
       "      <td>NaN</td>\n",
       "      <td>NaN</td>\n",
       "      <td>NaN</td>\n",
       "      <td>NaN</td>\n",
       "      <td>150570.930000</td>\n",
       "      <td>463688.170000</td>\n",
       "      <td>12.000000</td>\n",
       "      <td>24.000000</td>\n",
       "      <td>108070.880000</td>\n",
       "      <td>68920.800000</td>\n",
       "      <td>NaN</td>\n",
       "      <td>NaN</td>\n",
       "      <td>9.000000</td>\n",
       "      <td>1.000000</td>\n",
       "    </tr>\n",
       "  </tbody>\n",
       "</table>\n",
       "</div>"
      ],
      "text/plain": [
       "            CustomerID             Age   Gender MaritalStatus  Education  \\\n",
       "count   1000000.000000  1000000.000000  1000000       1000000     950070   \n",
       "unique             NaN             NaN        2             4          6   \n",
       "top                NaN             NaN   Female        Single  Secondary   \n",
       "freq               NaN             NaN   500284        449876     350005   \n",
       "mean     500000.500000       43.494123      NaN           NaN        NaN   \n",
       "std      288675.278932       14.998818      NaN           NaN        NaN   \n",
       "min           1.000000       18.000000      NaN           NaN        NaN   \n",
       "25%      250000.750000       31.000000      NaN           NaN        NaN   \n",
       "50%      500000.500000       43.000000      NaN           NaN        NaN   \n",
       "75%      750000.250000       56.000000      NaN           NaN        NaN   \n",
       "max     1000000.000000       69.000000      NaN           NaN        NaN   \n",
       "\n",
       "       EmploymentStatus          Income      LoanAmount        NumLoans  \\\n",
       "count           1000000  1000000.000000  1000000.000000  1000000.000000   \n",
       "unique                5             NaN             NaN             NaN   \n",
       "top            Employed             NaN             NaN             NaN   \n",
       "freq             499943             NaN             NaN             NaN   \n",
       "mean                NaN    50083.136461    29947.522764        1.999273   \n",
       "std                 NaN    19790.048336    29920.874775        1.414938   \n",
       "min                 NaN     5000.000000        0.000000        0.000000   \n",
       "25%                 NaN    36476.857500     8629.885000        1.000000   \n",
       "50%                 NaN    49983.985000    20769.010000        2.000000   \n",
       "75%                 NaN    63514.602500    41491.930000        3.000000   \n",
       "max                 NaN   150570.930000   463688.170000       12.000000   \n",
       "\n",
       "        CreditHistoryLength  AvgMonthlyExpenses         Savings  \\\n",
       "count        1000000.000000      1000000.000000  1000000.000000   \n",
       "unique                  NaN                 NaN             NaN   \n",
       "top                     NaN                 NaN             NaN   \n",
       "freq                    NaN                 NaN             NaN   \n",
       "mean              12.013856        27545.146653    15017.036809   \n",
       "std                7.210734        13373.145611     8590.920157   \n",
       "min                0.000000         1500.610000      500.120000   \n",
       "25%                6.000000        17828.462500     8353.540000   \n",
       "50%               12.000000        25877.235000    13534.440000   \n",
       "75%               18.000000        35795.477500    20334.815000   \n",
       "max               24.000000       108070.880000    68920.800000   \n",
       "\n",
       "       CreditCardUsage MobileMoneyUsage    LatePayments         Default  \n",
       "count          1000000          1000000  1000000.000000  1000000.000000  \n",
       "unique               3                3             NaN             NaN  \n",
       "top             Medium         Frequent             NaN             NaN  \n",
       "freq            400404           499892             NaN             NaN  \n",
       "mean               NaN              NaN        1.001364        0.065961  \n",
       "std                NaN              NaN        1.000652        0.248214  \n",
       "min                NaN              NaN        0.000000        0.000000  \n",
       "25%                NaN              NaN        0.000000        0.000000  \n",
       "50%                NaN              NaN        1.000000        0.000000  \n",
       "75%                NaN              NaN        2.000000        0.000000  \n",
       "max                NaN              NaN        9.000000        1.000000  "
      ]
     },
     "execution_count": 9,
     "metadata": {},
     "output_type": "execute_result"
    }
   ],
   "source": [
    "customers.describe(include='all')"
   ]
  },
  {
   "cell_type": "markdown",
   "id": "a7ff0dfa",
   "metadata": {},
   "source": [
    "Transactions Dataset Descriptive Analysis"
   ]
  },
  {
   "cell_type": "code",
   "execution_count": 10,
   "id": "be6331b9",
   "metadata": {},
   "outputs": [
    {
     "data": {
      "application/vnd.microsoft.datawrangler.viewer.v0+json": {
       "columns": [
        {
         "name": "index",
         "rawType": "object",
         "type": "string"
        },
        {
         "name": "TransactionID",
         "rawType": "float64",
         "type": "float"
        },
        {
         "name": "CustomerID",
         "rawType": "float64",
         "type": "float"
        },
        {
         "name": "Amount",
         "rawType": "float64",
         "type": "float"
        },
        {
         "name": "Channel",
         "rawType": "object",
         "type": "unknown"
        },
        {
         "name": "MerchantType",
         "rawType": "object",
         "type": "unknown"
        },
        {
         "name": "Region",
         "rawType": "object",
         "type": "unknown"
        },
        {
         "name": "TimeOfDay",
         "rawType": "object",
         "type": "unknown"
        },
        {
         "name": "DayOfWeek",
         "rawType": "object",
         "type": "unknown"
        },
        {
         "name": "Fraud",
         "rawType": "float64",
         "type": "float"
        }
       ],
       "ref": "f95f8d04-b917-4ac5-90c0-58783973188f",
       "rows": [
        [
         "count",
         "1000000.0",
         "1000000.0",
         "1000000.0",
         "1000000",
         "1000000",
         "1000000",
         "1000000",
         "1000000",
         "1000000.0"
        ],
        [
         "unique",
         null,
         null,
         null,
         "4",
         "7",
         "6",
         "4",
         "7",
         null
        ],
        [
         "top",
         null,
         null,
         null,
         "Online",
         "Electronics",
         "Eldoret",
         "Afternoon",
         "Tuesday",
         null
        ],
        [
         "freq",
         null,
         null,
         null,
         "400165",
         "143239",
         "167109",
         "350324",
         "143236",
         null
        ],
        [
         "mean",
         "500000.5",
         "50014.595087",
         "2001.12541896",
         null,
         null,
         null,
         null,
         null,
         "0.057899"
        ],
        [
         "std",
         "288675.27893234405",
         "28864.27788660978",
         "2001.5546814701663",
         null,
         null,
         null,
         null,
         null,
         "0.23355247878316418"
        ],
        [
         "min",
         "1.0",
         "1.0",
         "0.0",
         null,
         null,
         null,
         null,
         null,
         "0.0"
        ],
        [
         "25%",
         "250000.75",
         "24998.0",
         "575.3",
         null,
         null,
         null,
         null,
         null,
         "0.0"
        ],
        [
         "50%",
         "500000.5",
         "50048.0",
         "1387.7350000000001",
         null,
         null,
         null,
         null,
         null,
         "0.0"
        ],
        [
         "75%",
         "750000.25",
         "75022.0",
         "2773.21",
         null,
         null,
         null,
         null,
         null,
         "0.0"
        ],
        [
         "max",
         "1000000.0",
         "100000.0",
         "24971.62",
         null,
         null,
         null,
         null,
         null,
         "1.0"
        ]
       ],
       "shape": {
        "columns": 9,
        "rows": 11
       }
      },
      "text/html": [
       "<div>\n",
       "<style scoped>\n",
       "    .dataframe tbody tr th:only-of-type {\n",
       "        vertical-align: middle;\n",
       "    }\n",
       "\n",
       "    .dataframe tbody tr th {\n",
       "        vertical-align: top;\n",
       "    }\n",
       "\n",
       "    .dataframe thead th {\n",
       "        text-align: right;\n",
       "    }\n",
       "</style>\n",
       "<table border=\"1\" class=\"dataframe\">\n",
       "  <thead>\n",
       "    <tr style=\"text-align: right;\">\n",
       "      <th></th>\n",
       "      <th>TransactionID</th>\n",
       "      <th>CustomerID</th>\n",
       "      <th>Amount</th>\n",
       "      <th>Channel</th>\n",
       "      <th>MerchantType</th>\n",
       "      <th>Region</th>\n",
       "      <th>TimeOfDay</th>\n",
       "      <th>DayOfWeek</th>\n",
       "      <th>Fraud</th>\n",
       "    </tr>\n",
       "  </thead>\n",
       "  <tbody>\n",
       "    <tr>\n",
       "      <th>count</th>\n",
       "      <td>1000000.000000</td>\n",
       "      <td>1000000.000000</td>\n",
       "      <td>1000000.000000</td>\n",
       "      <td>1000000</td>\n",
       "      <td>1000000</td>\n",
       "      <td>1000000</td>\n",
       "      <td>1000000</td>\n",
       "      <td>1000000</td>\n",
       "      <td>1000000.000000</td>\n",
       "    </tr>\n",
       "    <tr>\n",
       "      <th>unique</th>\n",
       "      <td>NaN</td>\n",
       "      <td>NaN</td>\n",
       "      <td>NaN</td>\n",
       "      <td>4</td>\n",
       "      <td>7</td>\n",
       "      <td>6</td>\n",
       "      <td>4</td>\n",
       "      <td>7</td>\n",
       "      <td>NaN</td>\n",
       "    </tr>\n",
       "    <tr>\n",
       "      <th>top</th>\n",
       "      <td>NaN</td>\n",
       "      <td>NaN</td>\n",
       "      <td>NaN</td>\n",
       "      <td>Online</td>\n",
       "      <td>Electronics</td>\n",
       "      <td>Eldoret</td>\n",
       "      <td>Afternoon</td>\n",
       "      <td>Tuesday</td>\n",
       "      <td>NaN</td>\n",
       "    </tr>\n",
       "    <tr>\n",
       "      <th>freq</th>\n",
       "      <td>NaN</td>\n",
       "      <td>NaN</td>\n",
       "      <td>NaN</td>\n",
       "      <td>400165</td>\n",
       "      <td>143239</td>\n",
       "      <td>167109</td>\n",
       "      <td>350324</td>\n",
       "      <td>143236</td>\n",
       "      <td>NaN</td>\n",
       "    </tr>\n",
       "    <tr>\n",
       "      <th>mean</th>\n",
       "      <td>500000.500000</td>\n",
       "      <td>50014.595087</td>\n",
       "      <td>2001.125419</td>\n",
       "      <td>NaN</td>\n",
       "      <td>NaN</td>\n",
       "      <td>NaN</td>\n",
       "      <td>NaN</td>\n",
       "      <td>NaN</td>\n",
       "      <td>0.057899</td>\n",
       "    </tr>\n",
       "    <tr>\n",
       "      <th>std</th>\n",
       "      <td>288675.278932</td>\n",
       "      <td>28864.277887</td>\n",
       "      <td>2001.554681</td>\n",
       "      <td>NaN</td>\n",
       "      <td>NaN</td>\n",
       "      <td>NaN</td>\n",
       "      <td>NaN</td>\n",
       "      <td>NaN</td>\n",
       "      <td>0.233552</td>\n",
       "    </tr>\n",
       "    <tr>\n",
       "      <th>min</th>\n",
       "      <td>1.000000</td>\n",
       "      <td>1.000000</td>\n",
       "      <td>0.000000</td>\n",
       "      <td>NaN</td>\n",
       "      <td>NaN</td>\n",
       "      <td>NaN</td>\n",
       "      <td>NaN</td>\n",
       "      <td>NaN</td>\n",
       "      <td>0.000000</td>\n",
       "    </tr>\n",
       "    <tr>\n",
       "      <th>25%</th>\n",
       "      <td>250000.750000</td>\n",
       "      <td>24998.000000</td>\n",
       "      <td>575.300000</td>\n",
       "      <td>NaN</td>\n",
       "      <td>NaN</td>\n",
       "      <td>NaN</td>\n",
       "      <td>NaN</td>\n",
       "      <td>NaN</td>\n",
       "      <td>0.000000</td>\n",
       "    </tr>\n",
       "    <tr>\n",
       "      <th>50%</th>\n",
       "      <td>500000.500000</td>\n",
       "      <td>50048.000000</td>\n",
       "      <td>1387.735000</td>\n",
       "      <td>NaN</td>\n",
       "      <td>NaN</td>\n",
       "      <td>NaN</td>\n",
       "      <td>NaN</td>\n",
       "      <td>NaN</td>\n",
       "      <td>0.000000</td>\n",
       "    </tr>\n",
       "    <tr>\n",
       "      <th>75%</th>\n",
       "      <td>750000.250000</td>\n",
       "      <td>75022.000000</td>\n",
       "      <td>2773.210000</td>\n",
       "      <td>NaN</td>\n",
       "      <td>NaN</td>\n",
       "      <td>NaN</td>\n",
       "      <td>NaN</td>\n",
       "      <td>NaN</td>\n",
       "      <td>0.000000</td>\n",
       "    </tr>\n",
       "    <tr>\n",
       "      <th>max</th>\n",
       "      <td>1000000.000000</td>\n",
       "      <td>100000.000000</td>\n",
       "      <td>24971.620000</td>\n",
       "      <td>NaN</td>\n",
       "      <td>NaN</td>\n",
       "      <td>NaN</td>\n",
       "      <td>NaN</td>\n",
       "      <td>NaN</td>\n",
       "      <td>1.000000</td>\n",
       "    </tr>\n",
       "  </tbody>\n",
       "</table>\n",
       "</div>"
      ],
      "text/plain": [
       "         TransactionID      CustomerID          Amount  Channel MerchantType  \\\n",
       "count   1000000.000000  1000000.000000  1000000.000000  1000000      1000000   \n",
       "unique             NaN             NaN             NaN        4            7   \n",
       "top                NaN             NaN             NaN   Online  Electronics   \n",
       "freq               NaN             NaN             NaN   400165       143239   \n",
       "mean     500000.500000    50014.595087     2001.125419      NaN          NaN   \n",
       "std      288675.278932    28864.277887     2001.554681      NaN          NaN   \n",
       "min           1.000000        1.000000        0.000000      NaN          NaN   \n",
       "25%      250000.750000    24998.000000      575.300000      NaN          NaN   \n",
       "50%      500000.500000    50048.000000     1387.735000      NaN          NaN   \n",
       "75%      750000.250000    75022.000000     2773.210000      NaN          NaN   \n",
       "max     1000000.000000   100000.000000    24971.620000      NaN          NaN   \n",
       "\n",
       "         Region  TimeOfDay DayOfWeek           Fraud  \n",
       "count   1000000    1000000   1000000  1000000.000000  \n",
       "unique        6          4         7             NaN  \n",
       "top     Eldoret  Afternoon   Tuesday             NaN  \n",
       "freq     167109     350324    143236             NaN  \n",
       "mean        NaN        NaN       NaN        0.057899  \n",
       "std         NaN        NaN       NaN        0.233552  \n",
       "min         NaN        NaN       NaN        0.000000  \n",
       "25%         NaN        NaN       NaN        0.000000  \n",
       "50%         NaN        NaN       NaN        0.000000  \n",
       "75%         NaN        NaN       NaN        0.000000  \n",
       "max         NaN        NaN       NaN        1.000000  "
      ]
     },
     "execution_count": 10,
     "metadata": {},
     "output_type": "execute_result"
    }
   ],
   "source": [
    "transactions.describe(include='all')"
   ]
  },
  {
   "cell_type": "markdown",
   "id": "a45fbc3d",
   "metadata": {},
   "source": [
    "Check for and Handling Missing Values in Customers Dataset"
   ]
  },
  {
   "cell_type": "code",
   "execution_count": 11,
   "id": "2fa5a641",
   "metadata": {},
   "outputs": [
    {
     "name": "stdout",
     "output_type": "stream",
     "text": [
      "No missing values in column 'CustomerID'\n",
      "No missing values in column 'Age'\n",
      "No missing values in column 'Gender'\n",
      "No missing values in column 'MaritalStatus'\n",
      "Missing values 49930 in column 'Education' replaced by mode: Secondary\n",
      "No missing values in column 'EmploymentStatus'\n",
      "No missing values in column 'Income'\n",
      "No missing values in column 'LoanAmount'\n",
      "No missing values in column 'NumLoans'\n",
      "No missing values in column 'CreditHistoryLength'\n",
      "No missing values in column 'AvgMonthlyExpenses'\n",
      "No missing values in column 'Savings'\n",
      "No missing values in column 'CreditCardUsage'\n",
      "No missing values in column 'MobileMoneyUsage'\n",
      "No missing values in column 'LatePayments'\n",
      "No missing values in column 'Default'\n"
     ]
    }
   ],
   "source": [
    "for column in customers:\n",
    "    if customers[column].isnull().sum() > 0:\n",
    "        missing_count = customers[column].isnull().sum()\n",
    "        mode_value = customers[column].mode()[0]\n",
    "        customers[column] = customers[column].fillna(mode_value)\n",
    "        print(f\"Missing values {missing_count} in column '{column}' replaced by mode: {mode_value}\")\n",
    "    else:\n",
    "        print(f\"No missing values in column '{column}'\")"
   ]
  },
  {
   "cell_type": "markdown",
   "id": "dcb85a29",
   "metadata": {},
   "source": [
    "Check for and Handling Missing Values in Transactions Dataset"
   ]
  },
  {
   "cell_type": "code",
   "execution_count": 12,
   "id": "e4ae8f95",
   "metadata": {},
   "outputs": [
    {
     "name": "stdout",
     "output_type": "stream",
     "text": [
      "No missing values in column 'TransactionID'\n",
      "No missing values in column 'CustomerID'\n",
      "No missing values in column 'Amount'\n",
      "No missing values in column 'Channel'\n",
      "No missing values in column 'MerchantType'\n",
      "No missing values in column 'Region'\n",
      "No missing values in column 'TimeOfDay'\n",
      "No missing values in column 'DayOfWeek'\n",
      "No missing values in column 'Fraud'\n"
     ]
    }
   ],
   "source": [
    "for column in transactions:\n",
    "    if transactions[column].isnull().sum() > 0:\n",
    "        missing_count = transactions[column].isnull().sum()\n",
    "        mode_value = transactions[column].mode()[0]\n",
    "        transactions[column] = transactions[column].fillna(mode_value)\n",
    "        print(f\"Missing values {missing_count} in column '{column}' replaced by mode: {mode_value}\")\n",
    "    else:\n",
    "        print(f\"No missing values in column '{column}'\")"
   ]
  },
  {
   "cell_type": "markdown",
   "id": "93c3e139",
   "metadata": {},
   "source": [
    "Check for and Handling Outliers in Customers Dataset"
   ]
  },
  {
   "cell_type": "code",
   "execution_count": 13,
   "id": "5b7344c1",
   "metadata": {},
   "outputs": [
    {
     "name": "stdout",
     "output_type": "stream",
     "text": [
      "Found outliers in customers dataset\n",
      "Outliers in column 'Age' replaced by mode: 55\n",
      "Outliers in column 'Income' replaced by mode: 5000.0\n",
      "Outliers in column 'LoanAmount' replaced by mode: 217.79\n",
      "Outliers in column 'NumLoans' replaced by mode: 1\n",
      "Outliers in column 'CreditHistoryLength' replaced by mode: 22\n",
      "Outliers in column 'AvgMonthlyExpenses' replaced by mode: 15547.75\n",
      "Outliers in column 'Savings' replaced by mode: 6807.25\n",
      "Outliers in column 'LatePayments' replaced by mode: 1\n",
      "Outliers in column 'Default' replaced by mode: 0\n"
     ]
    }
   ],
   "source": [
    "cus_z_scores = np.abs(stats.zscore(customers.select_dtypes(include=[np.number])))\n",
    "cus_outliers = (cus_z_scores > 3).any(axis=1)\n",
    "print(f\"Found outliers in customers dataset\")\n",
    "\n",
    "# Replace outliers with mode of the column\n",
    "for column in customers.select_dtypes(include=[np.number]).columns:\n",
    "    if column == 'CustomerID':\n",
    "        continue\n",
    "    mode_value = customers[column].mode()[0]\n",
    "    customers.loc[cus_outliers, column] = mode_value\n",
    "    print(f\"Outliers in column '{column}' replaced by mode: {mode_value}\")\n",
    "\n",
    "# Alternatively, to remove outliers, uncomment the following line: \n",
    "# customers = customers[~cus_outliers]\n",
    "# print(f\"Customers dataset shape after removing outliers: {customers.shape}\")"
   ]
  },
  {
   "cell_type": "markdown",
   "id": "889512e5",
   "metadata": {},
   "source": [
    "Check for and Handling Outliers in Transactions Dataset"
   ]
  },
  {
   "cell_type": "code",
   "execution_count": 14,
   "id": "65c0715e",
   "metadata": {},
   "outputs": [
    {
     "name": "stdout",
     "output_type": "stream",
     "text": [
      "Found outliers in transactions dataset\n",
      "Outliers in column 'Amount' replaced by mode: 714.42\n",
      "Outliers in column 'Fraud' replaced by mode: 0\n"
     ]
    }
   ],
   "source": [
    "trans_z_scores = np.abs(stats.zscore(transactions.select_dtypes(include=[np.number])))\n",
    "trans_outliers = (trans_z_scores > 3).any(axis=1)\n",
    "print(f\"Found outliers in transactions dataset\")\n",
    "\n",
    "# Replace outliers with mode of the column\n",
    "for column in transactions.select_dtypes(include=[np.number]).columns:\n",
    "    if column == 'TransactionID' or column == 'CustomerID':\n",
    "        continue\n",
    "    mode_value = transactions[column].mode()[0]\n",
    "    transactions.loc[trans_outliers, column] = mode_value\n",
    "    print(f\"Outliers in column '{column}' replaced by mode: {mode_value}\")\n",
    "\n",
    "# Alternatively, to remove outliers, uncomment the following line: \n",
    "# transactions = transactions[~trans_outliers]\n",
    "# print(f\"Transactions dataset shape after removing outliers: {transactions.shape}\")"
   ]
  },
  {
   "cell_type": "markdown",
   "id": "08ab6be5",
   "metadata": {},
   "source": [
    "# Explorations on Customers Dataset"
   ]
  },
  {
   "cell_type": "markdown",
   "id": "0c9a6497",
   "metadata": {},
   "source": [
    "## Demographic"
   ]
  },
  {
   "cell_type": "code",
   "execution_count": 15,
   "id": "001be65f",
   "metadata": {},
   "outputs": [
    {
     "name": "stdout",
     "output_type": "stream",
     "text": [
      "<class 'pandas.core.frame.DataFrame'>\n",
      "RangeIndex: 1000000 entries, 0 to 999999\n",
      "Data columns (total 16 columns):\n",
      " #   Column               Non-Null Count    Dtype  \n",
      "---  ------               --------------    -----  \n",
      " 0   CustomerID           1000000 non-null  int64  \n",
      " 1   Age                  1000000 non-null  int64  \n",
      " 2   Gender               1000000 non-null  object \n",
      " 3   MaritalStatus        1000000 non-null  object \n",
      " 4   Education            1000000 non-null  object \n",
      " 5   EmploymentStatus     1000000 non-null  object \n",
      " 6   Income               1000000 non-null  float64\n",
      " 7   LoanAmount           1000000 non-null  float64\n",
      " 8   NumLoans             1000000 non-null  int64  \n",
      " 9   CreditHistoryLength  1000000 non-null  int64  \n",
      " 10  AvgMonthlyExpenses   1000000 non-null  float64\n",
      " 11  Savings              1000000 non-null  float64\n",
      " 12  CreditCardUsage      1000000 non-null  object \n",
      " 13  MobileMoneyUsage     1000000 non-null  object \n",
      " 14  LatePayments         1000000 non-null  int64  \n",
      " 15  Default              1000000 non-null  int64  \n",
      "dtypes: float64(4), int64(6), object(6)\n",
      "memory usage: 122.1+ MB\n"
     ]
    }
   ],
   "source": [
    "customers.info()"
   ]
  },
  {
   "cell_type": "code",
   "execution_count": null,
   "id": "7b395df6",
   "metadata": {},
   "outputs": [
    {
     "data": {
      "image/png": "[encoded data removed]",
      "text/plain": [
       "<Figure size 800x400 with 1 Axes>"
      ]
     },
     "metadata": {},
     "output_type": "display_data"
    },
    {
     "data": {
      "image/png": "[encoded data removed]",
      "text/plain": [
       "<Figure size 800x400 with 1 Axes>"
      ]
     },
     "metadata": {},
     "output_type": "display_data"
    },
    {
     "data": {
      "image/png": "[encoded data removed]",
      "text/plain": [
       "<Figure size 800x400 with 1 Axes>"
      ]
     },
     "metadata": {},
     "output_type": "display_data"
    },
    {
     "data": {
      "image/png": "[encoded data removed]",
      "text/plain": [
       "<Figure size 800x400 with 1 Axes>"
      ]
     },
     "metadata": {},
     "output_type": "display_data"
    }
   ],
   "source": [
    "demographic_cols = ['Age', 'Gender', 'MaritalStatus', 'Education']\n",
    "for col in demographic_cols:\n",
    "    plt.figure(figsize=(8, 4))\n",
    "    if customers[col].dtype == 'object':\n",
    "        sns.countplot(data=customers, x=col, hue=col, palette='Set2')\n",
    "    else:\n",
    "        sns.histplot(data=customers, x=col, kde=True, color='green')\n",
    "    plt.title(f'Distribution of {col}')\n",
    "    plt.show()\n",
    "\n",
    "# Crosstabulation between Education and Income\n",
    "pd.crosstab(customers['Education'], customers['Income']).plot(kind='bar', stacked=True, figsize=(10,6))\n",
    "plt.title('Education vs Income')\n",
    "plt.xlabel('Education Level')\n",
    "plt.ylabel('#')\n",
    "plt.show()\n",
    "\n",
    "# Crosstabulation between Marital Status and Default\n",
    "pd.crosstab(customers['MaritalStatus'], customers['Default']).plot(kind='bar', stacked=True, figsize=(10,6))\n",
    "plt.title('Marital Status vs Default')\n",
    "plt.xlabel('Marital Status')\n",
    "plt.ylabel('#')\n",
    "plt.show()"
   ]
  }
 ],
 "metadata": {
  "kernelspec": {
   "display_name": ".venv",
   "language": "python",
   "name": "python3"
  },
  "language_info": {
   "codemirror_mode": {
    "name": "ipython",
    "version": 3
   },
   "file_extension": ".py",
   "mimetype": "text/x-python",
   "name": "python",
   "nbconvert_exporter": "python",
   "pygments_lexer": "ipython3",
   "version": "3.12.3"
  }
 },
 "nbformat": 4,
 "nbformat_minor": 5
}
